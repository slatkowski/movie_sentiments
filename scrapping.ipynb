{
 "cells": [
  {
   "cell_type": "code",
   "execution_count": 16,
   "metadata": {},
   "outputs": [],
   "source": [
    "import pandas as pd\n",
    "import requests\n",
    "from bs4 import BeautifulSoup"
   ]
  },
  {
   "cell_type": "code",
   "execution_count": 17,
   "metadata": {},
   "outputs": [],
   "source": [
    "url = \"https://www.filmweb.pl/ranking/film\"\n",
    "response = requests.get(url)"
   ]
  },
  {
   "cell_type": "code",
   "execution_count": 18,
   "metadata": {},
   "outputs": [
    {
     "name": "stdout",
     "output_type": "stream",
     "text": [
      "Skazani na Shawshank\n",
      "Nietykalni\n",
      "Zielona mila\n",
      "Ojciec chrzestny\n",
      "Dwunastu gniewnych ludzi\n",
      "Forrest Gump\n",
      "Lot nad kukułczym gniazdem\n",
      "Ojciec chrzestny II\n",
      "Władca Pierścieni: Powrót króla\n",
      "Lista Schindlera\n",
      "Pulp Fiction\n",
      "Życie jest piękne\n",
      "Siedem\n",
      "Władca Pierścieni: Dwie wieże\n",
      "Podziemny krąg\n",
      "Chłopcy z ferajny\n",
      "Pianista\n",
      "Joker\n",
      "Piękny umysł\n",
      "Django\n",
      "Incepcja\n",
      "Milczenie owiec\n",
      "Król Lew\n",
      "Człowiek z blizną\n",
      "Gran Torino\n"
     ]
    }
   ],
   "source": [
    "soup_titles = BeautifulSoup(response.text, \"lxml\")\n",
    "titles = soup_titles.select(\".rankingType__title\")\n",
    "\n",
    "for title in titles:\n",
    "    print(title.text)"
   ]
  }
 ],
 "metadata": {
  "kernelspec": {
   "display_name": "Python 3",
   "language": "python",
   "name": "python3"
  },
  "language_info": {
   "codemirror_mode": {
    "name": "ipython",
    "version": 3
   },
   "file_extension": ".py",
   "mimetype": "text/x-python",
   "name": "python",
   "nbconvert_exporter": "python",
   "pygments_lexer": "ipython3",
   "version": "3.10.5"
  },
  "orig_nbformat": 4
 },
 "nbformat": 4,
 "nbformat_minor": 2
}
