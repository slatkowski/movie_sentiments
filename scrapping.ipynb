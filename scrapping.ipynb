{
 "cells": [
  {
   "cell_type": "code",
   "execution_count": 16,
   "metadata": {},
   "outputs": [],
   "source": [
    "import pandas as pd\n",
    "import requests\n",
    "from bs4 import BeautifulSoup"
   ]
  },
  {
   "cell_type": "code",
   "execution_count": 17,
   "metadata": {},
   "outputs": [],
   "source": [
    "url = \"https://www.filmweb.pl/ranking/film\"\n",
    "response = requests.get(url)"
   ]
  },
  {
   "cell_type": "code",
   "execution_count": 18,
   "metadata": {},
   "outputs": [
    {
     "name": "stdout",
     "output_type": "stream",
     "text": [
      "Skazani na Shawshank\n",
      "Nietykalni\n",
      "Zielona mila\n",
      "Ojciec chrzestny\n",
      "Dwunastu gniewnych ludzi\n",
      "Forrest Gump\n",
      "Lot nad kukułczym gniazdem\n",
      "Ojciec chrzestny II\n",
      "Władca Pierścieni: Powrót króla\n",
      "Lista Schindlera\n",
      "Pulp Fiction\n",
      "Życie jest piękne\n",
      "Siedem\n",
      "Władca Pierścieni: Dwie wieże\n",
      "Podziemny krąg\n",
      "Chłopcy z ferajny\n",
      "Pianista\n",
      "Joker\n",
      "Piękny umysł\n",
      "Django\n",
      "Incepcja\n",
      "Milczenie owiec\n",
      "Król Lew\n",
      "Człowiek z blizną\n",
      "Gran Torino\n"
     ]
    }
   ],
   "source": [
    "soup_titles = BeautifulSoup(response.text, \"lxml\")\n",
    "titles = soup_titles.select(\".rankingType__title\")\n",
    "\n",
    "for title in titles:\n",
    "    print(title.text)"
   ]
  },
  {
   "cell_type": "code",
   "execution_count": 19,
   "metadata": {},
   "outputs": [
    {
     "name": "stdout",
     "output_type": "stream",
     "text": [
      "8,76\n",
      "8,61\n",
      "8,60\n",
      "8,59\n",
      "8,56\n",
      "8,52\n",
      "8,43\n",
      "8,38\n",
      "8,34\n",
      "8,33\n",
      "8,31\n",
      "8,29\n",
      "8,27\n",
      "8,27\n",
      "8,25\n",
      "8,24\n",
      "8,23\n",
      "8,23\n",
      "8,22\n",
      "8,21\n",
      "8,21\n",
      "8,21\n",
      "8,21\n",
      "8,17\n",
      "8,17\n"
     ]
    }
   ],
   "source": [
    "soup_rating = BeautifulSoup(response.text, \"lxml\")\n",
    "ratings = soup_rating.select(\".rankingType__rate--value\")\n",
    "\n",
    "for rating in ratings:\n",
    "    print(rating.text)"
   ]
  },
  {
   "cell_type": "code",
   "execution_count": 29,
   "metadata": {},
   "outputs": [
    {
     "name": "stdout",
     "output_type": "stream",
     "text": [
      "Dramat\n",
      "Biograficzny / Dramat / Komedia\n",
      "Dramat\n",
      "Dramat / Gangsterski\n",
      "Dramat sądowy\n",
      "Dramat / Komedia\n",
      "Dramat / Psychologiczny\n",
      "Dramat / Gangsterski\n",
      "Fantasy / Przygodowy\n",
      "Dramat / Wojenny\n",
      "Gangsterski\n",
      "Dramat / Komedia / Wojenny\n",
      "Kryminał / Thriller\n",
      "Fantasy / Przygodowy\n",
      "Thriller / Psychologiczny\n",
      "Dramat / Gangsterski\n",
      "Biograficzny / Dramat / Wojenny\n",
      "Dramat / Kryminał / Psychologiczny\n",
      "Biograficzny / Dramat\n",
      "Western\n",
      "Surrealistyczny / Thriller / Sci-Fi\n",
      "Thriller\n",
      "Animacja / Familijny\n",
      "Dramat / Gangsterski\n",
      "Dramat\n"
     ]
    }
   ],
   "source": [
    "soup_type = BeautifulSoup(response.text, \"lxml\")\n",
    "types = soup_type.select(\".rankingType__genres\")\n",
    "\n",
    "for type in types:\n",
    "    print(type.text[3:])"
   ]
  }
 ],
 "metadata": {
  "kernelspec": {
   "display_name": "Python 3",
   "language": "python",
   "name": "python3"
  },
  "language_info": {
   "codemirror_mode": {
    "name": "ipython",
    "version": 3
   },
   "file_extension": ".py",
   "mimetype": "text/x-python",
   "name": "python",
   "nbconvert_exporter": "python",
   "pygments_lexer": "ipython3",
   "version": "3.10.5"
  },
  "orig_nbformat": 4
 },
 "nbformat": 4,
 "nbformat_minor": 2
}
