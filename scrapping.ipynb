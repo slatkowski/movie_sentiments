{
 "cells": [
  {
   "cell_type": "code",
   "execution_count": 8,
   "metadata": {},
   "outputs": [],
   "source": [
    "import pandas as pd\n",
    "import requests\n",
    "from bs4 import BeautifulSoup"
   ]
  },
  {
   "cell_type": "code",
   "execution_count": 9,
   "metadata": {},
   "outputs": [],
   "source": [
    "https_address = \"https://www.filmweb.pl/ranking/film\"\n",
    "response = requests.get(https_address)"
   ]
  },
  {
   "cell_type": "code",
   "execution_count": 10,
   "metadata": {},
   "outputs": [
    {
     "name": "stdout",
     "output_type": "stream",
     "text": [
      "Skazani na Shawshank\n",
      "Nietykalni\n",
      "Zielona mila\n",
      "Ojciec chrzestny\n",
      "Dwunastu gniewnych ludzi\n",
      "Forrest Gump\n",
      "Lot nad kukułczym gniazdem\n",
      "Ojciec chrzestny II\n",
      "Władca Pierścieni: Powrót króla\n",
      "Lista Schindlera\n",
      "Pulp Fiction\n",
      "Życie jest piękne\n",
      "Siedem\n",
      "Władca Pierścieni: Dwie wieże\n",
      "Podziemny krąg\n",
      "Chłopcy z ferajny\n",
      "Pianista\n",
      "Joker\n",
      "Piękny umysł\n",
      "Django\n",
      "Incepcja\n",
      "Milczenie owiec\n",
      "Król Lew\n",
      "Człowiek z blizną\n",
      "Gran Torino\n"
     ]
    }
   ],
   "source": [
    "soup_titles = BeautifulSoup(response.text, \"lxml\")\n",
    "titles = soup_titles.select(\".rankingType__title\")\n",
    "\n",
    "for title in titles:\n",
    "    print(title.text)"
   ]
  },
  {
   "cell_type": "code",
   "execution_count": 11,
   "metadata": {},
   "outputs": [
    {
     "name": "stdout",
     "output_type": "stream",
     "text": [
      "8,76\n",
      "8,61\n",
      "8,60\n",
      "8,59\n",
      "8,57\n",
      "8,52\n",
      "8,43\n",
      "8,38\n",
      "8,34\n",
      "8,33\n",
      "8,31\n",
      "8,29\n",
      "8,27\n",
      "8,27\n",
      "8,25\n",
      "8,24\n",
      "8,23\n",
      "8,23\n",
      "8,22\n",
      "8,21\n",
      "8,21\n",
      "8,21\n",
      "8,21\n",
      "8,17\n",
      "8,17\n"
     ]
    }
   ],
   "source": [
    "soup_rating = BeautifulSoup(response.text, \"lxml\")\n",
    "ratings = soup_rating.select(\".rankingType__rate--value\")\n",
    "\n",
    "for rating in ratings:\n",
    "    print(rating.text)"
   ]
  },
  {
   "cell_type": "code",
   "execution_count": 12,
   "metadata": {},
   "outputs": [
    {
     "name": "stdout",
     "output_type": "stream",
     "text": [
      "Dramat\n",
      "Biograficzny / Dramat / Komedia\n",
      "Dramat\n",
      "Dramat / Gangsterski\n",
      "Dramat sądowy\n",
      "Dramat / Komedia\n",
      "Dramat / Psychologiczny\n",
      "Dramat / Gangsterski\n",
      "Fantasy / Przygodowy\n",
      "Dramat / Wojenny\n",
      "Gangsterski\n",
      "Dramat / Komedia / Wojenny\n",
      "Kryminał / Thriller\n",
      "Fantasy / Przygodowy\n",
      "Thriller / Psychologiczny\n",
      "Dramat / Gangsterski\n",
      "Biograficzny / Dramat / Wojenny\n",
      "Dramat / Kryminał / Psychologiczny\n",
      "Biograficzny / Dramat\n",
      "Western\n",
      "Surrealistyczny / Thriller / Sci-Fi\n",
      "Thriller\n",
      "Animacja / Familijny\n",
      "Dramat / Gangsterski\n",
      "Dramat\n"
     ]
    }
   ],
   "source": [
    "soup_type = BeautifulSoup(response.text, \"lxml\")\n",
    "types = soup_type.select(\".rankingType__genres\")\n",
    "\n",
    "for type in types:\n",
    "    print(type.text[3:])"
   ]
  },
  {
   "cell_type": "code",
   "execution_count": 13,
   "metadata": {},
   "outputs": [
    {
     "name": "stdout",
     "output_type": "stream",
     "text": [
      "https://www.filmweb.pl/film/Skazani+na+Shawshank-1994-1048\n",
      "<div class=\"flatReview__text\">Jest wiele filmów, które potrafią wywołać ciarki na plecach bądź sprawić, że serce zaczyna bić szybciej lub że pierś wypełnia głęboki oddech. Znajdzie się także kilka produkcji, które wycisną z oczu łzy, albo wywołają szczery uśmiech na twarzy. Jeśli tak faktycznie jest, to jest to warte Twojej uwagi. Jednak tylko arcydzieło posiada wszystkie te... <a class=\"flatReview__more\" href=\"/reviews/recenzja-filmu-Skazani+na+Shawshank-8689\">więcej</a></div>\n",
      "<div class=\"flatReview__text\">Jeżeli jakiś film może czuć się pokrzywdzony brakiem Oscara na swoim koncie, to właśnie jest to obraz Franka Darabonta pt. \"Skazani na Shawshank\". Obok tego filmu nie można przejść obojętnie. Praktycznie przez cały czas trwania akcja (z wyjątkiem jej początku i końca) toczy się w murach więzienia Shawshank. Wydawać by się mogło, że fabuła filmu, w... <a class=\"flatReview__more\" href=\"/reviews/recenzja-filmu-Skazani+na+Shawshank-4042\">więcej</a></div>\n",
      "https://www.filmweb.pl/film/Nietykalni-2011-583390\n",
      "<div class=\"flatReview__text\">Przyjaźń to podobno najpiękniejsze uczucie na świecie. Lepsze od sympatii, mocniejsze od nienawiści, trwalsze od miłości. Nic więc dziwnego, że dostarcza świetnego materiału na filmy i twórcy czerpią z niej wyjątkowo ochoczo. Mieliśmy już obrazy o przyjaźni męsko-męskiej (\"Skazani na Shawshank\"), przyjaźni kobiecej (\"Thelma i Louise\"), przyjaźni... <a class=\"flatReview__more\" href=\"/reviews/recenzja-filmu-Nietykalni-12667\">więcej</a></div>\n",
      "<div class=\"flatReview__text\">Z zasady raczej sceptycznie odnoszę się do historii, których założeniem jest podnoszenie na duchu i odsłanianie szlachetnej strony człowieczeństwa. Bezwzględnie szczęśliwe zakończenia budzą we mnie podejrzenie co do władz umysłowych scenarzysty, a chwile, w których bohaterowie niespodziewanie przeżywają katharsis i stają się Zupełnie-Innymi-Ludźmi,... <a class=\"flatReview__more\" href=\"/reviews/recenzja-filmu-Nietykalni-12886\">więcej</a></div>\n",
      "https://www.filmweb.pl/film/Zielona+mila-1999-862\n",
      "<div class=\"flatReview__text\">Nazwanie Franka Darabonta mistrzem w przenoszeniu prozy Stephena Kinga na ekran nie powinno nikogo dziwić. Dlaczego? Ponieważ jak do tej pory tylko on pokusił się to zrobić, a druga sprawa, że wyszło mu to świetnie i prawie bezbłędnie. Dwa filmy - najpierw \"Skazani na Shawshank\", a potem \"Zielona Mila\" przyniosły temu Francuzowi uznanie widzów i... <a class=\"flatReview__more\" href=\"/reviews/recenzja-filmu-Zielona+mila-3797\">więcej</a></div>\n",
      "<div class=\"flatReview__text\">Mawia się, że kiedyś wszystkie książki Stephena Kinga doczekają się swych kinowych adaptacji. Patrząc na rynek kinematograficzny, można odnieść wrażenie, że ta przepowiednia jest naprawdę bliska spełnienia. Dla reżyserów już przestały mieć znaczenie trudności techniczne czy merytoryczne, związane z upchnięciem tysiąca stron prozy w trzygodzinnym... <a class=\"flatReview__more\" href=\"/reviews/recenzja-filmu-Zielona+mila-2789\">więcej</a></div>\n",
      "https://www.filmweb.pl/film/Ojciec+chrzestny-1972-1089\n",
      "<div class=\"flatReview__text\">\"Wierzę w Amerykę\". Tak zaczyna się jedno z najważniejszych dzieł kinematografii, film wielokrotnie nagradzany, dziś już kultowy i stanowiący podmiot analizy wielu kinomaniaków. Kopalnia cytatów, lekcja aktorstwa... \"Ojca chrzestnego\" można opisywać takimi superlatywami bez końca. Ale zacznijmy tak, jak się powinno zaczynać, czyli od początku.... <a class=\"flatReview__more\" href=\"/reviews/recenzja-filmu-Ojciec+chrzestny-2093\">więcej</a></div>\n",
      "<div class=\"flatReview__text\">\"Ojca chrzestnego\" Francisa Forda Coppoli widział lub chociaż słyszał o nim każdy szanujący się miłośnik kina. Minęło już niemal trzydzieści lat od premiery filmu twórcy \"Czasu apokalipsy\", a on ciągle elektryzuje i inspiruje twórców obrazów filmowych. Jego wpływ na kino gangsterskie jest nieoceniony, multum produkcji czerpało z niego garściami,... <a class=\"flatReview__more\" href=\"/reviews/recenzja-filmu-Ojciec+chrzestny-10657\">więcej</a></div>\n",
      "https://www.filmweb.pl/film/Dwunastu+gniewnych+ludzi-1957-30701\n",
      "<div class=\"flatReview__text\">Oto jeden z lepszych obrazów, jakie spłodziło światowe kino. Pomimo że od premiery minęło ponad półwiecze, nie stracił ani trochę na wyrazie. Wyreżyserowany i zagrany po mistrzowsku, na pierwszy rzut oka może się wydawać niezwykle nudny. Film praktycznie bez scenografii, dziejący się w jednym miejscu, który ma w dodatku 12 głównych i jedynych... <a class=\"flatReview__more\" href=\"/reviews/recenzja-filmu-Dwunastu+gniewnych+ludzi-7366\">więcej</a></div>\n",
      "<div class=\"flatReview__text\">Duszny dzień, niewielka sala z zepsutą klimatyzacją i dwunastu chłopa, którzy gadają, gadają, pocą się i gadają dalej. Mogłoby się wydawać, że taki pomysł na film jest jednak średnio trafiony. Jeśli dodać do tego jeszcze idee jedności czasu i miejsca wydarzeń oraz tożsamość czasu filmowego z czasem rzeczywistym odbioru, przedsięwzięcie to staje się... <a class=\"flatReview__more\" href=\"/reviews/recenzja-filmu-Dwunastu+gniewnych+ludzi-9105\">więcej</a></div>\n",
      "https://www.filmweb.pl/film/Forrest+Gump-1994-998\n",
      "<div class=\"flatReview__text\">W dzisiejszych filmach pełnych przemocy, efektów specjalnych i niestety często głupkowatego humoru brakuje opowieści o ludzkim duchu i możliwościach. Brakuje historii magicznych: wzruszających, poruszających, ciepłych, nastrojowych, zmieniających sposób patrzenia na świat – takich jak \"Forrest Gump\". Film opowiada historię tytułowego bohatera –... <a class=\"flatReview__more\" href=\"/reviews/recenzja-filmu-Forrest+Gump-2904\">więcej</a></div>\n",
      "<div class=\"flatReview__text\">W chwili, w której świat go ujrzał, film od razu stał się klasyką. I w końcu nie ma się czemu dziwić. \"Forrest Gump\" to niesamowicie poprawny (w każdym tego słowa znaczeniu) film amerykański, z góry skazany na niesamowite zyski. Bo w tym filmie nie ma się co nie podobać. Ciekawa i wzruszająca fabuła, świetna reżyseria, piękne zdjęcia, dobra obsada.... <a class=\"flatReview__more\" href=\"/reviews/recenzja-filmu-Forrest+Gump-3831\">więcej</a></div>\n",
      "https://www.filmweb.pl/film/Lot+nad+kuku%C5%82czym+gniazdem-1975-1019\n",
      "<div class=\"flatReview__text\">Kilkadziesiąt lat temu Michel Foucault napisał studium postaw wobec chorób psychicznych, \"Historię szaleństwa w dobie klasycyzmu\". Postulował w nim przede wszystkim zmianę poglądów na to, jak leczyć zaburzenia psychiczne. Przeszliśmy długą drogę, od trepanacji czaszek i krępowania łańcuchami - do komfortowych szpitali i leczenia farmakologicznego.... <a class=\"flatReview__more\" href=\"/reviews/recenzja-filmu-Lot+nad+kuku%C5%82czym+gniazdem-2066\">więcej</a></div>\n",
      "<div class=\"flatReview__text\">\"Lot nad kukułczym gniazdem\" opowiada historię pospolitego skazańca, który trafia na oddział psychiatryczny jednego z amerykańskich szpitali. To, czy Randle McMurphy (wspaniała kreacja Jacka Nicholsona, która uczyniła go jednym z najlepszych aktorów XX wieku) rzeczywiście potrzebuje pomocy psychiatry, jest tematem podlegającym dyskusji. Nie, żeby... <a class=\"flatReview__more\" href=\"/reviews/recenzja-filmu-Lot+nad+kuku%C5%82czym+gniazdem-6046\">więcej</a></div>\n",
      "https://www.filmweb.pl/film/Ojciec+chrzestny+II-1974-1090\n",
      "<div class=\"flatReview__text\">Rzadko zdarza się, żeby kontynuacja słynnego filmu była równie udana jak pierwowzór, a pod kilkoma względami nawet lepsza. Francisowi Fordowi Coppoli ta sztuka się udała. Druga część \"Ojca chrzestnego\" to monumentalne i równie wielkie co poprzednik dzieło. Obraz został jeszcze bardziej doceniony przez Akademię Filmową i jest to jeden z najlepszych... <a class=\"flatReview__more\" href=\"/reviews/recenzja-filmu-Ojciec+chrzestny+II-10659\">więcej</a></div>\n",
      "<div class=\"flatReview__text\">\"Ojciec chrzestny II\" to film kompletny, wręcz osiągnięcie artystyczne. Został nagrodzony m.in. sześcioma Oscarami. Ponadto jest niezwykle ceniony w środowisku krytyków. Zawsze jednak pozostawał w cieniu swojego równie wielkiego poprzednika. Zastanawia zapewne: dlaczego? Nie znam odpowiedzi na to pytanie. Finalne (w założeniu, co potwierdza... <a class=\"flatReview__more\" href=\"/reviews/recenzja-filmu-Ojciec+chrzestny+II-14454\">więcej</a></div>\n",
      "https://www.filmweb.pl/film/W%C5%82adca+Pier%C5%9Bcieni%3A+Powr%C3%B3t+kr%C3%B3la-2003-11841\n",
      "<div class=\"flatReview__text\">Kto normalny o szóstej rano po wielogodzinnym pobycie w kinie na nocnym maratonie nie poszedłby spać? Na przykład ja, bo wciąż śmiem uważać się za normalną. Był pierwszy stycznia 2004 roku, dzień premiery. Choć czułam, że zmęczenie powoli mnie ogarniało, nie chciałam zasnąć, bo obawiałam się, że sen mógłby zatrzeć w moim umyśle wspomnienia o tym,... <a class=\"flatReview__more\" href=\"/reviews/recenzja-filmu-W%C5%82adca+Pier%C5%9Bcieni%3A+Powr%C3%B3t+kr%C3%B3la-2324\">więcej</a></div>\n",
      "<div class=\"flatReview__text\">„Władca Pierścieni: Powrót Króla”, to jedna z najlepszych ekranizacji powieści w światowej kinematografii. Nowozelandczyk Peter Jackson przeniósł na srebrny ekran najpopularniejszą trylogię fantasy. Ekranizacja powieści napisanej przez Johna Ronalda Raoula Tolkiena była dużym ryzykiem, jednak twórcy obrazu zyskali przychylność krytyków oraz, co... <a class=\"flatReview__more\" href=\"/reviews/recenzja-filmu-W%C5%82adca+Pier%C5%9Bcieni%3A+Powr%C3%B3t+kr%C3%B3la-3041\">więcej</a></div>\n",
      "https://www.filmweb.pl/film/Lista+Schindlera-1993-1211\n",
      "<div class=\"flatReview__text\">Na film wybrałem się, jak tylko wszedł do kin. Wcześniej były reklamy, zapowiedzi. Szczerze mówiąc, przeczuwałem sukces tej produkcji, ze względu na jej twórców: Spielberga, Kamińskiego i innych. Chociaż, jak zawsze, była ciekawość, w jaki sposób pokazano tak złożony problem holokaustu. Film od początku jest hołdem złożonym narodowi żydowskiemu.... <a class=\"flatReview__more\" href=\"/reviews/recenzja-filmu-Lista+Schindlera-5702\">więcej</a></div>\n",
      "https://www.filmweb.pl/film/Pulp+Fiction-1994-1039\n",
      "<div class=\"flatReview__text\">Pulp – miękka, wilgotna, bezkształtna masa lub materia; czasopismo lub książka zawierające brukowe treści, drukowane na charakterystycznym surowym, tanim papierze.Quentin Tarantino otwiera swój film etymologią i znaczeniem pierwszego słowa ze sławetnego już w świecie tytułu \"Pulp Fiction\". Jedno słowo, a zawarta jest w nim cała, jakże pokręcona,... <a class=\"flatReview__more\" href=\"/reviews/recenzja-filmu-Pulp+Fiction-7007\">więcej</a></div>\n",
      "<div class=\"flatReview__text\">Mało ludzi wie, co tak naprawdę znaczy sam tytuł, co ciekawe nieprzetłumaczony na język polski (co wyszło tylko na dobre, bo polscy dystrybutorzy potrafią zaskakiwać), ale prawie każdy kinoman samą nazwę filmu kojarzy. I nie tylko, bo gdyby tak popytać, to lwia część ma olbrzymi szacunek do tego filmu. Nieważne, czy są fanami sensacji, dramatów czy... <a class=\"flatReview__more\" href=\"/reviews/recenzja-filmu-Pulp+Fiction-6363\">więcej</a></div>\n",
      "https://www.filmweb.pl/film/%C5%BBycie+jest+pi%C4%99kne-1997-208\n",
      "<div class=\"flatReview__text\">Holocaust to niewątpliwie temat trudny. Fala zła i nienawiści, z jaką zetknęli się Żydzi w czasie II wojny światowej, jest nie do pojęcia dla współczesnego człowieka. Żeby choć w części zrozumieć to, co się wtedy działo, czytamy wstrząsające wspomnienia osób, którym udało się przetrwać to piekło. Również kinematografia nieraz sięgała po ten trudny... <a class=\"flatReview__more\" href=\"/reviews/recenzja-filmu-%C5%BBycie+jest+pi%C4%99kne-13766\">więcej</a></div>\n",
      "<div class=\"flatReview__text\">Film Roberta Benigni \"Życie jest piękne\" to antyutopia przedstawiona w konwencji sielanki. Reżyser, odgrywający rolę Guida o pochodzeniu żydowskim, postanowił ukazać drażliwy temat holocaustu i antysemityzmu w postaci hybrydycznego gatunku, stworzonego z elementów komedii i dramatu wojennego. Obraz obozu koncentracyjnego w okrutnej epoce pieców... <a class=\"flatReview__more\" href=\"/reviews/recenzja-filmu-%C5%BBycie+jest+pi%C4%99kne-11575\">więcej</a></div>\n",
      "https://www.filmweb.pl/film/Siedem-1995-702\n",
      "<div class=\"flatReview__text\">Sztuka zgłębia ludzką podświadomość. Prześwietla to, czego nie jesteśmy do końca pewni, odnajduje, co rządzi naszym postępowaniem – choć sami moglibyśmy przysiąc, że działa coś zupełnie innego. Mogą to być tęsknoty za pięknym życiem (czym wszak jest \"sen Hollywoodu\"?), mogą być poszukiwania granic płciowości i seksualności (w czym specjalizuje się... <a class=\"flatReview__more\" href=\"/reviews/recenzja-filmu-Siedem-1996\">więcej</a></div>\n",
      "<div class=\"flatReview__text\">Genialny i nieprzewidywalny morderca jest bohaterem wielu filmów cieszących się powszechnym uznaniem. Czymże byłby dobry kryminał, gdyby poszukiwany dał się złapać w pierwszej scenie? Niczym. Uciekinier musi mieć przewagę nad glinami, śmiać się im w twarz, bawić się w kotka i myszkę i jeszcze zostawiać wskazówki. Morderca-inteligent zabijający w... <a class=\"flatReview__more\" href=\"/reviews/recenzja-filmu-Siedem-6909\">więcej</a></div>\n",
      "https://www.filmweb.pl/film/W%C5%82adca+Pier%C5%9Bcieni%3A+Dwie+wie%C5%BCe-2002-31451\n",
      "<div class=\"flatReview__text\">Druga część trylogii wszech czasów była najbardziej oczekiwanym filmem 2002 roku. \"Dwie Wieże\" - kontynuacja kasowego przeboju \"Drużyna Pierścienia\" - nie zawiodły. Peter Jackson stworzył swoje kolejne wielkie dzieło i chociaż trochę odmienne od pierwszej części trylogii, to na pewno nie gorsze. Podstawową różnicą dzielącą oba filmy jest to,... <a class=\"flatReview__more\" href=\"/reviews/recenzja-filmu-W%C5%82adca+Pier%C5%9Bcieni%3A+Dwie+wie%C5%BCe-3722\">więcej</a></div>\n",
      "<div class=\"flatReview__text\">Dnia 1 lutego roku 2003, nadszedł ten wielki dla mnie dzień - postanowiłam się wybrać na drugą część Władcy Pierścieni, a mianowicie \"Dwie Wieże\". Przygotowałam się poważnie, czyli przypomniałam sobie, co się dzieje w książce i mogłam już wyruszać do kina. Usiadłam sobie wygodnie i czekałam cierpliwie. Po 15 minutach opóźnienia pogasły światła i... <a class=\"flatReview__more\" href=\"/reviews/recenzja-filmu-W%C5%82adca+Pier%C5%9Bcieni%3A+Dwie+wie%C5%BCe-1171\">więcej</a></div>\n",
      "https://www.filmweb.pl/film/Podziemny+kr%C4%85g-1999-837\n",
      "<div class=\"flatReview__text\">Może zacznę od banalnego stwierdzenia: wbrew nazwie nie jest to film o nielegalnych walkach ani nawet o miłośnikach tych walk. Musze więc przyznać, że tłumaczenie polskie jest całkiem trafne. Organizowanie i uczestniczenie w walkach to tylko sposób na zrobienie czegoś przeciw rzeczywistości, przeciwko popadaniu w schemat, w który zostaje wepchnięta... <a class=\"flatReview__more\" href=\"/reviews/recenzja-filmu-Podziemny+kr%C4%85g-1363\">więcej</a></div>\n",
      "<div class=\"flatReview__text\">Kiedy po raz pierwszy oglądałam \"Podziemny krąg\", doznałam tego przyjemnego uczucia, na które czekają setki kinomaniaków, zasiadając przed ekranami kin czy monitorami komputerów. Zostałam dosłownie wbita w fotel, zmiażdżona historią, zaserwowaną mi przez Davida Finchera. Autor innego arcydzieła, mam tu na myśli oczywiście kultowe \"Siedem\", stanął... <a class=\"flatReview__more\" href=\"/reviews/recenzja-filmu-Podziemny+kr%C4%85g-8939\">więcej</a></div>\n",
      "https://www.filmweb.pl/film/Ch%C5%82opcy+z+ferajny-1990-1033\n",
      "<div class=\"flatReview__text\">Martin Scorsese najlepsze efekty osiągał, prezentując bez upiększeń życie gangsterów. W \"Chłopcach z ferajny\" możemy odnaleźć niemal wszystkie elementy typowe dla jego twórczości. Mamy więc przemoc i brutalność, nieszablonowe postaci i znakomicie prowadzonych aktorów, dynamiczną narrację i demitologizację obrazu gangsterów, który zaprezentował... <a class=\"flatReview__more\" href=\"/reviews/recenzja-filmu-Ch%C5%82opcy+z+ferajny-4058\">więcej</a></div>\n",
      "<div class=\"flatReview__text\">Widzom na całym świecie znane są słynne, filmowe duety o układzie reżyser-aktor (rzadziej twórca-kompozytor). Wówczas takie \"pary\" tworzą wspólnie kilkanaście dzieł, a ich współpraca nieraz owocuje sympatią, przyjaźnią w życiu prywatnym. Pozwolę sobie wymienić kilka, moim zdaniem, najważniejszych kinowych duetów: Burton-Depp, Leone-Eastwood,... <a class=\"flatReview__more\" href=\"/reviews/recenzja-filmu-Ch%C5%82opcy+z+ferajny-7493\">więcej</a></div>\n",
      "https://www.filmweb.pl/film/Pianista-2002-32225\n",
      "<div class=\"flatReview__text\">Kiedy Roman Polański bierze się za zrobienie filmu, to na pewno musi z tego wyjść coś naprawdę mocnego. Tak też jest w przypadku \"Pianisty\". Gdy pierwszy raz usłyszałem o tym filmie, pomyślałem, że jest to kolejny obraz tragedii wojennych, holocaustu, trochę oklepany temat, ale ze względu na twórców pewnie warto wybrać się do kina. Po obejrzeniu... <a class=\"flatReview__more\" href=\"/reviews/recenzja-filmu-Pianista-5906\">więcej</a></div>\n",
      "https://www.filmweb.pl/film/Joker-2019-810167\n",
      "<div class=\"flatReview__text\">Postać wykreowana przez Phoenixa wygląda jak dziecko Travisa Bickle'a (\"Taksówkarz\") i Harley Quinn, które było wychowywane przez Ruperta Pupkina (\"Król komedii\"). Obecność w obsadzie Roberta De Niro wydaje się więc uzasadniona, bo w pewnym sensie to on jest dla tytułowego bohatera jednym z punktów zapalnych dla błazeńskiej \"metamorfozy\". <a class=\"flatReview__more\" href=\"/reviews/recenzja-filmu-Joker-22951\">więcej</a></div>\n",
      "<div class=\"flatReview__text\">\"Joker\" to już teraz film-symbol. Produkcja, która udowadnia, że nic nie trzeba, a wszystko można. Tytuł pokazujący, że sprzedanie sztuki zorientowanemu na rozrywkę odbiorcy docelowemu jest realne, wywracający do góry nogami budowany przez pół wieku porządek, odważny, kontrowersyjny, niebezpieczny.  <a class=\"flatReview__more\" href=\"/reviews/recenzja-filmu-Joker-23199\">więcej</a></div>\n",
      "https://www.filmweb.pl/film/Pi%C4%99kny+umys%C5%82-2001-31864\n",
      "<div class=\"flatReview__text\">Trudno wyobrazić sobie człowieka, który życie postrzega tylko poprzez cyfry i liczby, równania, zadania matematyczne, algorytmy i określoną liczbę zdarzeń przypadkowych. Trudno wyobrazić sobie człowieka, który podporządkowuje się grze zdarzeń losowych, a w jego umyśle zamiast słów, uczuć i pragnień dominują cyfry. Wciąż słyszy ich muzykę, ich... <a class=\"flatReview__more\" href=\"/reviews/recenzja-filmu-Pi%C4%99kny+umys%C5%82-1870\">więcej</a></div>\n",
      "https://www.filmweb.pl/film/Django-2012-620541\n",
      "<div class=\"flatReview__text\">Był żydowski oddział masakrujący nazistów, przyszła pora na afroamerykańską odyseję na Dzikim Zachodzie. Tak jak w przypadku \"Bękartów wojny\", tak i tym razem inspiracji poszukał Tarantino u Włochów. Jego \"Django\" to hołd dla spaghetti westernów: tytuł (oraz piosenka tytułowa) zaczerpnięte zostały z obrazu Sergio Corbucciego, cała reszta to już... <a class=\"flatReview__more\" href=\"/reviews/recenzja-filmu-Django-13984\">więcej</a></div>\n",
      "<div class=\"flatReview__text\">\"Django\" to długo wyczekiwany film Quentina Tarantino, jednego z najbardziej pomysłowych i kontrowersyjnych reżyserów współczesnych czasów. Czy po trzyletniej przerwie niekwestionowany mistrz mieszania gatunków oraz czarnego humoru ciągle potrafi tworzyć zaskakujące, nieszablonowe, pełne ironii obrazy, zachowując przy tym swój unikalny styl?... <a class=\"flatReview__more\" href=\"/reviews/recenzja-filmu-Django-13859\">więcej</a></div>\n",
      "https://www.filmweb.pl/film/Incepcja-2010-500891\n",
      "<div class=\"flatReview__text\">\"Incepcja\" niewątpliwie jest jednym z najbardziej oczekiwanych filmów roku. Pierwsze pojawiające się w mediach informacje na temat jej fabuły wskazywały na to, że będzie to psychologiczny thriller, którego akcja będzie się rozgrywać w snach głównych bohaterów. Brzmiało obiecująco, tym bardziej że Christopher Nolan już kilka razy pokazał, że bardzo... <a class=\"flatReview__more\" href=\"/reviews/recenzja-filmu-Incepcja-10076\">więcej</a></div>\n",
      "<div class=\"flatReview__text\">Christopher Nolan to bez wątpienia jeden z najzdolniejszych, jak nie najzdolniejszy młody reżyser. Właściwie to jego młody wiek nie ma tu nic do rzeczy. W wieku niespełna 40 lat może się on pochwalić dorobkiem, jakiego zazdrości mu pewnie wielu dużo starszych kolegów po fachu. Niemal każdy jego dotychczasowy film był ogromnym sukcesem. Doceniony... <a class=\"flatReview__more\" href=\"/reviews/recenzja-filmu-Incepcja-10074\">więcej</a></div>\n",
      "https://www.filmweb.pl/film/Milczenie+owiec-1991-1047\n",
      "<div class=\"flatReview__text\">\"Milczenie owiec\" Thomasa Harrisa powszechnie uznano za jeden z najwybitniejszych thrillerów psychologicznych końca XX wieku. Można sobie wyobrazić, że przeniesienie tak uznanej powieści na ekran stanowiło dla filmowców nie lada wyzwanie. Dlaczego? Choćby z obawy przed kompromitacją z powodu nieudanej ekranizacji doskonałej książki. Na szczęście... <a class=\"flatReview__more\" href=\"/reviews/recenzja-filmu-Milczenie+owiec-9977\">więcej</a></div>\n",
      "<div class=\"flatReview__text\">Gdyby ktoś zapytał mnie, o czym jest \"Milczenie owiec\", odpowiedziałabym, że u podstaw problematyki tego filmu leży analiza ludzkiej psychiki. Z początku nasuwa się nieodparte wrażenie, że akcja dotyczy przede wszystkim tajemniczych zbrodni, szybko orientujemy się jednak, że te wydarzenia służą jako pretekst do wprowadzenia głównego wątku... Tak... <a class=\"flatReview__more\" href=\"/reviews/recenzja-filmu-Milczenie+owiec-2299\">więcej</a></div>\n",
      "https://www.filmweb.pl/film/Kr%C3%B3l+Lew-1994-6878\n",
      "<div class=\"flatReview__text\">Chociaż mija czas, \"Król Lew\" się nie starzeje, ciągle wywołuje emocje oraz wychowuje i bawi kolejne pokolenia dzieci. Gorąco polecam! Drugiego takiego filmu już na pewno nie będzie. <a class=\"flatReview__more\" href=\"/reviews/recenzja-filmu-Kr%C3%B3l+Lew-12823\">więcej</a></div>\n",
      "<div class=\"flatReview__text\">Od \"Króla Lwa\" zaczęła się tak naprawdę moja przygoda z kinem. Po obejrzeniu tego arcydzieła zrozumiałem, kim chcę zostać w przyszłości. Jego wpływ na moje życie był nieodwracalny. Nie żałuję, ponieważ zobaczyłem, że kino to magiczne miejsce. Bajka opowiada historię Simby. Simba to młody następca tronu na afrykańskich równinach. Jego ojciec -... <a class=\"flatReview__more\" href=\"/reviews/recenzja-filmu-Kr%C3%B3l+Lew-6289\">więcej</a></div>\n",
      "https://www.filmweb.pl/film/Cz%C5%82owiek+z+blizn%C4%85-1983-4833\n",
      "<div class=\"flatReview__text\">Tony Montana sam podaje się za byłego więźnia politycznego, represjonowanego przez reżim Fidela Castro. Wystarcza jednak jedno spojrzenie na jego zakazaną facjatę, by wiedzieć, że łże jak pies. Trudno mu się jednak dziwić - Tony za nic nie ma ochoty wracać na Kubę, ani do końca życia zmywać naczynia w podrzędnych barach. Ma silne poczucie wartości... <a class=\"flatReview__more\" href=\"/reviews/recenzja-filmu-Cz%C5%82owiek+z+blizn%C4%85-11638\">więcej</a></div>\n",
      "<div class=\"flatReview__text\">Nie wie, co to kino gangsterskie ten, kto nie poznał klasy \"Człowieka z blizną\". Taki można wysnuć wniosek po obejrzeniu dzieła Briana De Palmy. Najlepszy dramat gangsterski w historii czy może najlepszy film w historii? O ile z tym drugim wielu będzie polemizować, o tyle z pierwszym zgodzi się dużo osób.  Wiele było w świecie kina kreacji... <a class=\"flatReview__more\" href=\"/reviews/recenzja-filmu-Cz%C5%82owiek+z+blizn%C4%85-8733\">więcej</a></div>\n",
      "https://www.filmweb.pl/film/Gran+Torino-2008-476580\n",
      "<div class=\"flatReview__text\">Większości ludziom, choćby nawet nie widzieli jego filmów (o ile jest to możliwe), nie trzeba chyba tłumaczyć, kim jest Clint Eastwood. Zagrał w kilkudziesięciu filmach i niewiele mniej wyreżyserował. I o ile Clint-aktor kojarzony jest raczej z gatunkiem filmu sensacyjnego, o tyle już Clint-reżyser znany jest z bardziej ambitnych dzieł, nawet... <a class=\"flatReview__more\" href=\"/reviews/recenzja-filmu-Gran+Torino-7672\">więcej</a></div>\n",
      "<div class=\"flatReview__text\">Siedemdziesiąt dziewięć lat – sędziwy wiek mądrości. Co ludzie robią w tak poważnym wieku? Wyciszają się, spokojnieją, cieszą się zasłużoną emeryturą. Chyba, że… kręcą filmy i nazywają się Clint (The Madafaking) Eastwood. Oglądając tego pana w akcji, mam wrażenie, że nawet jak mu stuknie setka (czego mu szczerze życzę) i nie będzie mógł wstać z... <a class=\"flatReview__more\" href=\"/reviews/recenzja-filmu-Gran+Torino-7948\">więcej</a></div>\n"
     ]
    }
   ],
   "source": [
    "soup_link = BeautifulSoup(response.text, \"lxml\")\n",
    "links = soup_link.select(\"body h2 a\")\n",
    "\n",
    "for link in links:\n",
    "    href = link[\"href\"]\n",
    "    url = \"https://www.filmweb.pl\" + href\n",
    "    print(url)\n",
    "\n",
    "\n",
    "    response_url = requests.get(url)\n",
    "    soup_url = BeautifulSoup(response_url.text, \"html.parser\")\n",
    "    review = soup_url.select(\".flatReview__text\")\n",
    "    for r in review:\n",
    "        print(r)"
   ]
  }
 ],
 "metadata": {
  "kernelspec": {
   "display_name": "Python 3",
   "language": "python",
   "name": "python3"
  },
  "language_info": {
   "codemirror_mode": {
    "name": "ipython",
    "version": 3
   },
   "file_extension": ".py",
   "mimetype": "text/x-python",
   "name": "python",
   "nbconvert_exporter": "python",
   "pygments_lexer": "ipython3",
   "version": "3.10.5"
  },
  "orig_nbformat": 4
 },
 "nbformat": 4,
 "nbformat_minor": 2
}
