{
 "cells": [
  {
   "cell_type": "code",
   "execution_count": 57,
   "metadata": {},
   "outputs": [],
   "source": [
    "import pandas as pd\n",
    "import requests\n",
    "from bs4 import BeautifulSoup"
   ]
  },
  {
   "cell_type": "code",
   "execution_count": 58,
   "metadata": {},
   "outputs": [],
   "source": [
    "url = \"https://www.filmweb.pl/ranking/film\"\n",
    "response = requests.get(url)"
   ]
  },
  {
   "cell_type": "code",
   "execution_count": 59,
   "metadata": {},
   "outputs": [
    {
     "name": "stdout",
     "output_type": "stream",
     "text": [
      "Skazani na Shawshank\n",
      "Nietykalni\n",
      "Zielona mila\n",
      "Ojciec chrzestny\n",
      "Dwunastu gniewnych ludzi\n",
      "Forrest Gump\n",
      "Lot nad kukułczym gniazdem\n",
      "Ojciec chrzestny II\n",
      "Władca Pierścieni: Powrót króla\n",
      "Lista Schindlera\n",
      "Pulp Fiction\n",
      "Życie jest piękne\n",
      "Siedem\n",
      "Władca Pierścieni: Dwie wieże\n",
      "Podziemny krąg\n",
      "Chłopcy z ferajny\n",
      "Pianista\n",
      "Joker\n",
      "Piękny umysł\n",
      "Django\n",
      "Incepcja\n",
      "Milczenie owiec\n",
      "Król Lew\n",
      "Człowiek z blizną\n",
      "Gran Torino\n"
     ]
    }
   ],
   "source": [
    "soup_titles = BeautifulSoup(response.text, \"lxml\")\n",
    "titles = soup_titles.select(\".rankingType__title\")\n",
    "\n",
    "for title in titles:\n",
    "    print(title.text)"
   ]
  },
  {
   "cell_type": "code",
   "execution_count": 60,
   "metadata": {},
   "outputs": [
    {
     "name": "stdout",
     "output_type": "stream",
     "text": [
      "8,76\n",
      "8,61\n",
      "8,60\n",
      "8,59\n",
      "8,56\n",
      "8,52\n",
      "8,43\n",
      "8,38\n",
      "8,34\n",
      "8,33\n",
      "8,31\n",
      "8,29\n",
      "8,27\n",
      "8,27\n",
      "8,25\n",
      "8,24\n",
      "8,23\n",
      "8,23\n",
      "8,22\n",
      "8,21\n",
      "8,21\n",
      "8,21\n",
      "8,21\n",
      "8,17\n",
      "8,17\n"
     ]
    }
   ],
   "source": [
    "soup_rating = BeautifulSoup(response.text, \"lxml\")\n",
    "ratings = soup_rating.select(\".rankingType__rate--value\")\n",
    "\n",
    "for rating in ratings:\n",
    "    print(rating.text)"
   ]
  },
  {
   "cell_type": "code",
   "execution_count": 61,
   "metadata": {},
   "outputs": [
    {
     "name": "stdout",
     "output_type": "stream",
     "text": [
      "Dramat\n",
      "Biograficzny / Dramat / Komedia\n",
      "Dramat\n",
      "Dramat / Gangsterski\n",
      "Dramat sądowy\n",
      "Dramat / Komedia\n",
      "Dramat / Psychologiczny\n",
      "Dramat / Gangsterski\n",
      "Fantasy / Przygodowy\n",
      "Dramat / Wojenny\n",
      "Gangsterski\n",
      "Dramat / Komedia / Wojenny\n",
      "Kryminał / Thriller\n",
      "Fantasy / Przygodowy\n",
      "Thriller / Psychologiczny\n",
      "Dramat / Gangsterski\n",
      "Biograficzny / Dramat / Wojenny\n",
      "Dramat / Kryminał / Psychologiczny\n",
      "Biograficzny / Dramat\n",
      "Western\n",
      "Surrealistyczny / Thriller / Sci-Fi\n",
      "Thriller\n",
      "Animacja / Familijny\n",
      "Dramat / Gangsterski\n",
      "Dramat\n"
     ]
    }
   ],
   "source": [
    "soup_type = BeautifulSoup(response.text, \"lxml\")\n",
    "types = soup_type.select(\".rankingType__genres\")\n",
    "\n",
    "for type in types:\n",
    "    print(type.text[3:])"
   ]
  },
  {
   "cell_type": "code",
   "execution_count": 71,
   "metadata": {},
   "outputs": [
    {
     "name": "stdout",
     "output_type": "stream",
     "text": [
      "/film/Skazani+na+Shawshank-1994-1048\n",
      "/film/Nietykalni-2011-583390\n",
      "/film/Zielona+mila-1999-862\n",
      "/film/Ojciec+chrzestny-1972-1089\n",
      "/film/Dwunastu+gniewnych+ludzi-1957-30701\n",
      "/film/Forrest+Gump-1994-998\n",
      "/film/Lot+nad+kuku%C5%82czym+gniazdem-1975-1019\n",
      "/film/Ojciec+chrzestny+II-1974-1090\n",
      "/film/W%C5%82adca+Pier%C5%9Bcieni%3A+Powr%C3%B3t+kr%C3%B3la-2003-11841\n",
      "/film/Lista+Schindlera-1993-1211\n",
      "/film/Pulp+Fiction-1994-1039\n",
      "/film/%C5%BBycie+jest+pi%C4%99kne-1997-208\n",
      "/film/Siedem-1995-702\n",
      "/film/W%C5%82adca+Pier%C5%9Bcieni%3A+Dwie+wie%C5%BCe-2002-31451\n",
      "/film/Podziemny+kr%C4%85g-1999-837\n",
      "/film/Ch%C5%82opcy+z+ferajny-1990-1033\n",
      "/film/Pianista-2002-32225\n",
      "/film/Joker-2019-810167\n",
      "/film/Pi%C4%99kny+umys%C5%82-2001-31864\n",
      "/film/Django-2012-620541\n",
      "/film/Incepcja-2010-500891\n",
      "/film/Milczenie+owiec-1991-1047\n",
      "/film/Kr%C3%B3l+Lew-1994-6878\n",
      "/film/Cz%C5%82owiek+z+blizn%C4%85-1983-4833\n",
      "/film/Gran+Torino-2008-476580\n"
     ]
    }
   ],
   "source": [
    "soup_link = BeautifulSoup(response.text, \"lxml\")\n",
    "links = soup_link.select(\"body h2 a\")\n",
    "\n",
    "for link in links:\n",
    "    href = link[\"href\"]\n",
    "    print(href)"
   ]
  }
 ],
 "metadata": {
  "kernelspec": {
   "display_name": "Python 3",
   "language": "python",
   "name": "python3"
  },
  "language_info": {
   "codemirror_mode": {
    "name": "ipython",
    "version": 3
   },
   "file_extension": ".py",
   "mimetype": "text/x-python",
   "name": "python",
   "nbconvert_exporter": "python",
   "pygments_lexer": "ipython3",
   "version": "3.10.5"
  },
  "orig_nbformat": 4
 },
 "nbformat": 4,
 "nbformat_minor": 2
}
