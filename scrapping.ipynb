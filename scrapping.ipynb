{
 "cells": [
  {
   "cell_type": "code",
   "execution_count": 1,
   "metadata": {},
   "outputs": [],
   "source": [
    "import pandas as pd\n",
    "import requests\n",
    "from bs4 import BeautifulSoup"
   ]
  },
  {
   "cell_type": "code",
   "execution_count": 2,
   "metadata": {},
   "outputs": [],
   "source": [
    "https_address = \"https://www.filmweb.pl/ranking/film\"\n",
    "response = requests.get(https_address)"
   ]
  },
  {
   "cell_type": "code",
   "execution_count": 3,
   "metadata": {},
   "outputs": [
    {
     "data": {
      "text/plain": [
       "['Skazani na Shawshank',\n",
       " 'Nietykalni',\n",
       " 'Zielona mila',\n",
       " 'Ojciec chrzestny',\n",
       " 'Dwunastu gniewnych ludzi',\n",
       " 'Forrest Gump',\n",
       " 'Lot nad kukułczym gniazdem',\n",
       " 'Ojciec chrzestny II',\n",
       " 'Władca Pierścieni: Powrót króla',\n",
       " 'Lista Schindlera',\n",
       " 'Pulp Fiction',\n",
       " 'Życie jest piękne',\n",
       " 'Siedem',\n",
       " 'Władca Pierścieni: Dwie wieże',\n",
       " 'Podziemny krąg',\n",
       " 'Chłopcy z ferajny',\n",
       " 'Pianista',\n",
       " 'Joker',\n",
       " 'Piękny umysł',\n",
       " 'Django',\n",
       " 'Incepcja',\n",
       " 'Milczenie owiec',\n",
       " 'Król Lew',\n",
       " 'Człowiek z blizną',\n",
       " 'Gran Torino']"
      ]
     },
     "execution_count": 3,
     "metadata": {},
     "output_type": "execute_result"
    }
   ],
   "source": [
    "soup_titles = BeautifulSoup(response.text, \"lxml\")\n",
    "titles = soup_titles.select(\".rankingType__title\")\n",
    "\n",
    "titles_data = []\n",
    "\n",
    "for title in titles:\n",
    "    titles_data.append(title.text)\n",
    "\n",
    "titles_data"
   ]
  },
  {
   "cell_type": "code",
   "execution_count": 4,
   "metadata": {},
   "outputs": [
    {
     "data": {
      "text/plain": [
       "['8,76',\n",
       " '8,61',\n",
       " '8,60',\n",
       " '8,59',\n",
       " '8,57',\n",
       " '8,52',\n",
       " '8,43',\n",
       " '8,38',\n",
       " '8,34',\n",
       " '8,33',\n",
       " '8,31',\n",
       " '8,29',\n",
       " '8,27',\n",
       " '8,27',\n",
       " '8,25',\n",
       " '8,24',\n",
       " '8,23',\n",
       " '8,23',\n",
       " '8,22',\n",
       " '8,21',\n",
       " '8,21',\n",
       " '8,21',\n",
       " '8,21',\n",
       " '8,17',\n",
       " '8,17']"
      ]
     },
     "execution_count": 4,
     "metadata": {},
     "output_type": "execute_result"
    }
   ],
   "source": [
    "soup_rating = BeautifulSoup(response.text, \"lxml\")\n",
    "ratings = soup_rating.select(\".rankingType__rate--value\")\n",
    "\n",
    "ratings_data = []\n",
    "\n",
    "for rating in ratings:\n",
    "    ratings_data.append(rating.text)\n",
    "\n",
    "ratings_data"
   ]
  },
  {
   "cell_type": "code",
   "execution_count": 5,
   "metadata": {},
   "outputs": [
    {
     "data": {
      "text/plain": [
       "['Dramat',\n",
       " 'Biograficzny / Dramat / Komedia',\n",
       " 'Dramat',\n",
       " 'Dramat / Gangsterski',\n",
       " 'Dramat sądowy',\n",
       " 'Dramat / Komedia',\n",
       " 'Dramat / Psychologiczny',\n",
       " 'Dramat / Gangsterski',\n",
       " 'Fantasy / Przygodowy',\n",
       " 'Dramat / Wojenny',\n",
       " 'Gangsterski',\n",
       " 'Dramat / Komedia / Wojenny',\n",
       " 'Kryminał / Thriller',\n",
       " 'Fantasy / Przygodowy',\n",
       " 'Thriller / Psychologiczny',\n",
       " 'Dramat / Gangsterski',\n",
       " 'Biograficzny / Dramat / Wojenny',\n",
       " 'Dramat / Kryminał / Psychologiczny',\n",
       " 'Biograficzny / Dramat',\n",
       " 'Western',\n",
       " 'Surrealistyczny / Thriller / Sci-Fi',\n",
       " 'Thriller',\n",
       " 'Animacja / Familijny',\n",
       " 'Dramat / Gangsterski',\n",
       " 'Dramat']"
      ]
     },
     "execution_count": 5,
     "metadata": {},
     "output_type": "execute_result"
    }
   ],
   "source": [
    "soup_type = BeautifulSoup(response.text, \"lxml\")\n",
    "types = soup_type.select(\".rankingType__genres\")\n",
    "\n",
    "types_data = []\n",
    "\n",
    "for type in types:\n",
    "    types_data.append(type.text[3:])\n",
    "\n",
    "types_data "
   ]
  },
  {
   "cell_type": "code",
   "execution_count": 8,
   "metadata": {},
   "outputs": [
    {
     "data": {
      "text/plain": [
       "25"
      ]
     },
     "execution_count": 8,
     "metadata": {},
     "output_type": "execute_result"
    }
   ],
   "source": [
    "soup_link = BeautifulSoup(response.text, \"lxml\")\n",
    "links = soup_link.select(\"body h2 a\")\n",
    "\n",
    "reviews_data = []\n",
    "\n",
    "for link in links:\n",
    "    href = link[\"href\"]\n",
    "    url = \"https://www.filmweb.pl\" + href\n",
    "\n",
    "    response_url = requests.get(url)\n",
    "    soup_url = BeautifulSoup(response_url.text, \"lxml\")\n",
    "    more_url = soup_url.select(\".flatReview__more\")\n",
    "\n",
    "    if more_url:  \n",
    "        review_link = more_url[0]  \n",
    "        href_review = review_link[\"href\"]\n",
    "        reviews_url = \"https://www.filmweb.pl\" + href_review\n",
    "\n",
    "        response_review_url = requests.get(reviews_url)\n",
    "        soup_review_url = BeautifulSoup(response_review_url.text, \"lxml\")\n",
    "        review_url = soup_review_url.select(\".newsMainSection__text.page__text\")\n",
    "\n",
    "        if review_url:  \n",
    "            review = review_url[0]  \n",
    "            review_text = review.get_text()\n",
    "            reviews_data.append(review_text)\n",
    "\n",
    "len(reviews_data)"
   ]
  }
 ],
 "metadata": {
  "kernelspec": {
   "display_name": "Python 3",
   "language": "python",
   "name": "python3"
  },
  "language_info": {
   "codemirror_mode": {
    "name": "ipython",
    "version": 3
   },
   "file_extension": ".py",
   "mimetype": "text/x-python",
   "name": "python",
   "nbconvert_exporter": "python",
   "pygments_lexer": "ipython3",
   "version": "3.10.5"
  },
  "orig_nbformat": 4
 },
 "nbformat": 4,
 "nbformat_minor": 2
}
